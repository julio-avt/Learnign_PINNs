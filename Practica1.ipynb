{
 "cells": [
  {
   "cell_type": "markdown",
   "id": "502e3101-a0b1-4653-bd63-3ebc920c90f6",
   "metadata": {},
   "source": [
    "# Implementación Básica de PINN"
   ]
  },
  {
   "cell_type": "code",
   "execution_count": 1,
   "id": "81c3bd7b-0415-44ed-8aaa-1d67f9a8044e",
   "metadata": {},
   "outputs": [],
   "source": [
    "from typing import Callable\n",
    "from functools import partial\n",
    "\n",
    "import matplotlib.pyplot as plt\n",
    "import torch\n",
    "from scipy.integrate import solve_ivp\n",
    "from torch import nn\n",
    "import numpy as np"
   ]
  },
  {
   "cell_type": "markdown",
   "id": "e8d09bee-cc58-4f43-ba47-03bb9ac57b22",
   "metadata": {},
   "source": [
    "## Parte 1. Definición del problema\n",
    "La ecuación a resolver es el modelo de crecimiento de población.\n",
    "$$\\frac{df}{dt} = R t(1-t)$$\n",
    "Donde $f(t)$ es el radio de crecimiento de población a lo largo del tiempo y $R$ es el radio de crecimiento de población máximo. Esta ecuación tiene las condiciones de frontera:\n",
    "$$f(t=0)=1$$\n",
    "Sea $f_{NN}(t)$ nuestra red neuronal, así nuestra red neuronal debe cumplir:\n",
    "$$\\frac{df_{NN}(t)}{dt} - R t(1-t) = 0$$\n",
    "Nuestra red neuronal requiere ser entrenada, para ello definamos la función de pérdida con el MSE. Sea $\\{x_j\\}_{j=1,...,m}$ el conjunto de puntos seleccionados, entonces definimos la función de pérdida de la ecuación diferencial por:\n",
    "$$\\mathcal{L}_{DE} = \\frac{1}{M} \\sum_{j=1}^M \\left( \\left. \\frac{df_{NN}}{dt} \\right|_{x_j} - R x_j(1-x_j) \\right)^2$$\n",
    "Sin embargo, también se requiere una función de pérdida debido a las conficiones de frontera:\n",
    "$$\\mathcal{L}_{BC} = \\left( f_{NN} (t_0) -1 \\right)^2,\\quad t_0=0$$\n",
    "Por tanto, la función de pérdida completa es:\n",
    "$$\\mathcal{L} = \\mathcal{L}_{DE} + \\mathcal{L}_{BC}$$\n",
    "El objetivo es disminuir esta función de pérdida. Usaremos el gradciente descendente."
   ]
  },
  {
   "cell_type": "markdown",
   "id": "63dc8826-e599-41c2-a3c7-ed1cef59d3bb",
   "metadata": {},
   "source": [
    "## Parte 2. Definición de la Red Neuronal\n",
    "Usaremos una red neuronal multicapa, con un entradas y capas dadas por el usuario. Además, nuestra función de activación será $\\tanh x$."
   ]
  },
  {
   "cell_type": "code",
   "execution_count": 2,
   "id": "54a60c9a-25e2-4463-9d8c-1b500adbf18b",
   "metadata": {},
   "outputs": [],
   "source": [
    "class NNApproximator(nn.Module):\n",
    "    def __init__(self, num_hidden: int, dim_hidden: int, act=nn.Tanh()):\n",
    "    \n",
    "        super().__init__()\n",
    "        # Creamos una transformaciión lineal de la entrada a la capa oculta\n",
    "        # 1 capa oculta\n",
    "        self.layer_in = nn.Linear(1, dim_hidden)\n",
    "        # De la capa oculta obtenemos al salida\n",
    "        self.layer_out = nn.Linear(dim_hidden, 1)\n",
    "        \n",
    "        # Creamos las capas ocultas\n",
    "        num_middle = num_hidden - 1\n",
    "        self.middle_layers = nn.ModuleList(\n",
    "            [nn.Linear(dim_hidden, dim_hidden) for _ in range(num_middle)]\n",
    "        )\n",
    "        # Funcion de activacion\n",
    "        self.act = act\n",
    "\n",
    "    def forward(self, x):\n",
    "        out = self.act(self.layer_in(x))\n",
    "        for layer in self.middle_layers:\n",
    "            # Activamos las entradas\n",
    "            out = self.act(layer(out))\n",
    "        return self.layer_out(out)"
   ]
  },
  {
   "cell_type": "code",
   "execution_count": 3,
   "id": "4271cc52-d7bb-4296-9b3b-28495c315537",
   "metadata": {},
   "outputs": [],
   "source": [
    "# Función para calculr las derivadas \n",
    "def f(nn: NNApproximator, x: torch.Tensor) -> torch.Tensor:\n",
    "    \"\"\"Compute the value of the approximate solution from the NN model\"\"\"\n",
    "    return nn(x)\n",
    "\n",
    "def df(nn: NNApproximator, x: torch.Tensor = None, order: int = 1) -> torch.Tensor:\n",
    "    \"\"\"Compute neural network derivative with respect to input features using PyTorch autograd engine\"\"\"\n",
    "    df_value = f(nn, x)\n",
    "    # Obtiene las derivadas en casod e requerir varias\n",
    "    for _ in range(order):\n",
    "        df_value = torch.autograd.grad(\n",
    "            df_value,\n",
    "            x,\n",
    "            grad_outputs=torch.ones_like(x),\n",
    "            create_graph=True,\n",
    "            retain_graph=True,\n",
    "        )[0]\n",
    "\n",
    "    return df_value"
   ]
  },
  {
   "cell_type": "code",
   "execution_count": 4,
   "id": "4c5360ef-3bb4-4b73-aacb-716ca65c9d9a",
   "metadata": {},
   "outputs": [],
   "source": [
    "# Obtención de la función de pérdida\n",
    "def compute_loss(\n",
    "    nn: NNApproximator, x: torch.Tensor = None, verbose: bool = False\n",
    ") -> torch.float:\n",
    "    \"\"\"Compute the full loss function as interior loss + boundary loss\n",
    "    This custom loss function is fully defined with differentiable tensors therefore\n",
    "    the .backward() method can be applied to it\n",
    "    \"\"\"\n",
    "    # Función de pérdida de frontera\n",
    "    interior_loss = df(nn, x) - R * x * (1 - x)\n",
    "    # Punto frontera\n",
    "    boundary = torch.Tensor([0.0])\n",
    "    boundary.requires_grad = True\n",
    "    boundary_loss = f(nn, boundary) - F0\n",
    "    final_loss = interior_loss.pow(2).mean() + boundary_loss ** 2\n",
    "    return final_loss"
   ]
  },
  {
   "cell_type": "code",
   "execution_count": 5,
   "id": "da3d6d90-8e97-4a78-8e9b-f2d1ad6926c0",
   "metadata": {},
   "outputs": [],
   "source": [
    "# Función de entrenamiento\n",
    "def train_model(nn: NNApproximator,\n",
    "                loss_fn: Callable,\n",
    "                learning_rate: int = 0.01,\n",
    "                max_epochs: int = 1_000,\n",
    "            ) -> NNApproximator:\n",
    "\n",
    "    loss_evolution = []\n",
    "\n",
    "    optimizer = torch.optim.SGD(nn.parameters(), lr=learning_rate)\n",
    "    for epoch in range(max_epochs):\n",
    "\n",
    "        try:\n",
    "\n",
    "            loss: torch.Tensor = loss_fn(nn)\n",
    "            optimizer.zero_grad()\n",
    "            loss.backward()\n",
    "            optimizer.step()\n",
    "\n",
    "            if epoch % 1000 == 0:\n",
    "                print(f\"Epoch: {epoch} - Loss: {float(loss):>7f}\")\n",
    "\n",
    "            loss_evolution.append(loss.detach().numpy())\n",
    "\n",
    "        except KeyboardInterrupt:\n",
    "            break\n",
    "\n",
    "    return nn, np.array(loss_evolution)\n"
   ]
  },
  {
   "cell_type": "code",
   "execution_count": 6,
   "id": "913b8255-7cf3-43f7-87b2-49b5b0d733b5",
   "metadata": {},
   "outputs": [],
   "source": [
    "# Función de gradiente, Retropropagación\n",
    "def check_gradient(nn: NNApproximator, x: torch.Tensor = None) -> bool:\n",
    "\n",
    "    eps = 1e-4\n",
    "    dfdx_fd = (f(nn, x + eps) - f(nn, x - eps)) / (2 * eps)\n",
    "    dfdx_sample = df(nn, x, order=1)\n",
    "\n",
    "    return torch.allclose(dfdx_fd.T, dfdx_sample.T, atol=1e-2, rtol=1e-2)"
   ]
  },
  {
   "cell_type": "code",
   "execution_count": 7,
   "id": "16a8a348-337b-4c30-a7c7-495ede8fa5c1",
   "metadata": {},
   "outputs": [
    {
     "name": "stdout",
     "output_type": "stream",
     "text": [
      "Epoch: 0 - Loss: 1.358452\n",
      "Epoch: 1000 - Loss: 0.003157\n",
      "Epoch: 2000 - Loss: 0.000325\n",
      "Epoch: 3000 - Loss: 0.000288\n",
      "Epoch: 4000 - Loss: 0.000259\n",
      "Epoch: 5000 - Loss: 0.000235\n",
      "Epoch: 6000 - Loss: 0.000216\n",
      "Epoch: 7000 - Loss: 0.000199\n",
      "Epoch: 8000 - Loss: 0.000185\n",
      "Epoch: 9000 - Loss: 0.000173\n",
      "Epoch: 10000 - Loss: 0.000162\n",
      "Epoch: 11000 - Loss: 0.000152\n",
      "Epoch: 12000 - Loss: 0.000144\n",
      "Epoch: 13000 - Loss: 0.000136\n",
      "Epoch: 14000 - Loss: 0.000129\n",
      "Epoch: 15000 - Loss: 0.000122\n",
      "Epoch: 16000 - Loss: 0.000116\n",
      "Epoch: 17000 - Loss: 0.000111\n",
      "Epoch: 18000 - Loss: 0.000106\n",
      "Epoch: 19000 - Loss: 0.000101\n"
     ]
    }
   ],
   "source": [
    "# Constantes\n",
    "R = 1.0\n",
    "F0 = 1.0\n",
    "\n",
    "# Intervalo de t\n",
    "domain = [0.0, 1.0]\n",
    "x = torch.linspace(domain[0], domain[1], steps=10, requires_grad=True)\n",
    "x = x.reshape(x.shape[0], 1)\n",
    "\n",
    "# Creación de la red\n",
    "nn_approximator = NNApproximator(4, 10)\n",
    "assert check_gradient(nn_approximator, x)\n",
    "\n",
    "# train the PINN\n",
    "# Función de pérdida\n",
    "loss_fn = partial(compute_loss, x=x, verbose=True)\n",
    "# Entrenamos la red\n",
    "nn_approximator_trained, loss_evolution = train_model(\n",
    "nn_approximator, loss_fn=loss_fn, learning_rate=0.1, max_epochs=20_000)\n",
    "\n",
    "# Puntos del eje x para graficar\n",
    "x_eval = torch.linspace(domain[0], domain[1], steps=100).reshape(-1, 1)\n",
    "\n",
    "    \n",
    "    "
   ]
  },
  {
   "cell_type": "code",
   "execution_count": 8,
   "id": "e24fb40b-b309-41c3-b3b5-b5d254e6f201",
   "metadata": {},
   "outputs": [],
   "source": [
    "# numeric solution\n",
    "def logistic_eq_fn(x, y):\n",
    "    return R * x * (1 - x)\n",
    "\n",
    "numeric_solution = solve_ivp(logistic_eq_fn, domain, [F0], t_eval=x_eval.squeeze().detach().numpy())\n"
   ]
  },
  {
   "cell_type": "code",
   "execution_count": 9,
   "id": "27cdb65b-a813-4159-b0e2-5fd30c007f9e",
   "metadata": {},
   "outputs": [
    {
     "name": "stderr",
     "output_type": "stream",
     "text": [
      "No handles with labels found to put in legend.\n"
     ]
    },
    {
     "data": {
      "image/png": "[encoded data removed]",
      "text/plain": [
       "<Figure size 432x288 with 1 Axes>"
      ]
     },
     "metadata": {
      "needs_background": "light"
     },
     "output_type": "display_data"
    },
    {
     "data": {
      "image/png": "[encoded data removed]",
      "text/plain": [
       "<Figure size 432x288 with 1 Axes>"
      ]
     },
     "metadata": {
      "needs_background": "light"
     },
     "output_type": "display_data"
    }
   ],
   "source": [
    "# plotting\n",
    "fig, ax = plt.subplots()\n",
    "\n",
    "f_final_training = f(nn_approximator_trained, x)\n",
    "f_final = f(nn_approximator_trained, x_eval)\n",
    "\n",
    "ax.scatter(x.detach().numpy(), f_final_training.detach().numpy(), label=\"Training points\", color=\"red\")\n",
    "ax.plot(x_eval.detach().numpy(), f_final.detach().numpy(), label=\"NN final solution\")\n",
    "ax.plot(\n",
    "        x_eval.detach().numpy(),\n",
    "        numeric_solution.y.T,\n",
    "        label=f\"Analytic solution\",\n",
    "        color=\"green\",\n",
    "        alpha=0.75,\n",
    "    )\n",
    "ax.set(title=\"Logistic equation solved with NNs\", xlabel=\"t\", ylabel=\"f(t)\")\n",
    "ax.legend()\n",
    "\n",
    "fig, ax = plt.subplots()\n",
    "ax.semilogy(loss_evolution)\n",
    "ax.set(title=\"Loss evolution\", xlabel=\"# epochs\", ylabel=\"Loss\")\n",
    "ax.legend()\n",
    "\n",
    "plt.show()"
   ]
  },
  {
   "cell_type": "code",
   "execution_count": null,
   "id": "c68e690a-ecd0-4510-9a00-d76a16eef54a",
   "metadata": {},
   "outputs": [],
   "source": []
  }
 ],
 "metadata": {
  "kernelspec": {
   "display_name": "Python 3 (ipykernel)",
   "language": "python",
   "name": "python3"
  },
  "language_info": {
   "codemirror_mode": {
    "name": "ipython",
    "version": 3
   },
   "file_extension": ".py",
   "mimetype": "text/x-python",
   "name": "python",
   "nbconvert_exporter": "python",
   "pygments_lexer": "ipython3",
   "version": "3.9.6"
  }
 },
 "nbformat": 4,
 "nbformat_minor": 5
}
